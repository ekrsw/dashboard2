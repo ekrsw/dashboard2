{
 "cells": [
  {
   "cell_type": "code",
   "execution_count": 75,
   "id": "b3602533-e488-431c-bbda-1909e91a8fd8",
   "metadata": {
    "tags": []
   },
   "outputs": [],
   "source": [
    "import datetime as dt\n",
    "import numpy as np\n",
    "import os\n",
    "import pandas as pd\n",
    "\n",
    "from dashboard_app.common.models.reporter_model import ReporterModel\n",
    "from dashboard_app.common.models.read_file_model import ReadExlFileModel\n",
    "from dashboard_app.common.models.calc_model import Calc\n",
    "\n",
    "headless_mode = True\n",
    "url = 'http://sccts7dxsql/ctreport'\n",
    "id = 'eisuke_koresawa'"
   ]
  },
  {
   "cell_type": "code",
   "execution_count": 76,
   "id": "e7aa3ae6-025a-4209-9615-9e4aacee44bd",
   "metadata": {
    "tags": []
   },
   "outputs": [],
   "source": [
    "# メンバリストファイル\n",
    "member_list_path = r\"\\\\mjs.co.jp\\datas\\CSC共有フォルダ\\第47期 東京CSC第二グループ\\47期SV共有\\ダッシュボードアイテム\"\n",
    "member_list_file = 'メンバーリスト.xlsx'\n",
    "member_list_file_path = os.path.join(member_list_path, member_list_file)\n",
    "\n",
    "# 'クローズ_本日.xlsm'ファイル\n",
    "close_file = r'\\\\mjs.co.jp\\datas\\CSC共有フォルダ\\第47期 東京CSC第二グループ\\47期SV共有\\ダッシュボードアイテム\\クローズ_本日.xlsm'"
   ]
  },
  {
   "cell_type": "code",
   "execution_count": 77,
   "id": "a039e5a3-9293-41d8-aaea-b485f5941ffb",
   "metadata": {
    "tags": []
   },
   "outputs": [],
   "source": [
    "# レポータ、ファイル読込み、計算インスタンスを作成\n",
    "rm = ReporterModel(url, id, headless_mode=headless_mode)\n",
    "rf = ReadExlFileModel()\n",
    "cl = Calc()"
   ]
  },
  {
   "cell_type": "code",
   "execution_count": 78,
   "id": "1bd1efed-19e7-4dd0-8fb7-3a180f6922f9",
   "metadata": {
    "tags": []
   },
   "outputs": [],
   "source": [
    "# レポータから本日の各種情報を読込みDataFrameへ格納\n",
    "df = rm.get_today_op_as_dataframe()"
   ]
  },
  {
   "cell_type": "code",
   "execution_count": 79,
   "id": "121bfa9a-3096-4a3c-8849-3674f36ecda2",
   "metadata": {
    "tags": []
   },
   "outputs": [],
   "source": [
    "# メンバーリストファイルから、レポータの名前を正式な氏名のフォーマットに変換\n",
    "member_list = pd.read_excel(member_list_file_path)\n",
    "index_dict_reporter = member_list.set_index('レポータ')['氏名'].to_dict()\n",
    "df.index = df.index.map(index_dict_reporter)"
   ]
  },
  {
   "cell_type": "code",
   "execution_count": 80,
   "id": "c9c1313e-7270-4461-8b15-cf3b4abf0fcc",
   "metadata": {
    "tags": []
   },
   "outputs": [],
   "source": [
    "# クローズ_本日.xlsmファイルを読み込み、クローズのDataFrameを作成\n",
    "df_close = rf.read_today_close_file()"
   ]
  },
  {
   "cell_type": "code",
   "execution_count": 81,
   "id": "87f65433-d077-4a0d-9069-75c80d98e9cf",
   "metadata": {
    "tags": []
   },
   "outputs": [],
   "source": [
    "# シフトデータを読込み、同時にメンバーリストファイルから、名前を正式な氏名のフォーマットに変換\n",
    "df_shift = rf.read_today_shift_file()\n",
    "index_dict_shift_table = member_list.set_index('Sweet')['氏名'].to_dict()\n",
    "df_shift.index = df_shift.index.map(index_dict_shift_table)"
   ]
  },
  {
   "cell_type": "code",
   "execution_count": 82,
   "id": "b3f83e0c-c836-473c-a309-2ea90d67f68a",
   "metadata": {
    "tags": []
   },
   "outputs": [],
   "source": [
    "# 当番データを読込み、同時にメンバーリストファイルから、名前を正式な氏名のフォーマットに変換\n",
    "df_duty = rf.read_today_duty_file()\n",
    "index_dict_duty_table = member_list.set_index('Sweet')['氏名'].to_dict()\n",
    "df_duty.index = df_duty.index.map(index_dict_duty_table)"
   ]
  },
  {
   "cell_type": "code",
   "execution_count": 83,
   "id": "27b5b9aa-f80f-4bff-88dc-616fafcbb6cc",
   "metadata": {
    "tags": []
   },
   "outputs": [],
   "source": [
    "# クローズデータとレポータからスクレイピングしたデータをjoin\n",
    "df_join = df.join(df_close, how='outer').fillna(0)"
   ]
  },
  {
   "cell_type": "code",
   "execution_count": 84,
   "id": "11132afe-e6c7-4b9c-9f28-3ae0e80db8ae",
   "metadata": {
    "tags": []
   },
   "outputs": [],
   "source": [
    "df_join# 各カラムの合計値を計算して新しい行として追加\n",
    "df_join.loc['合計'] = df_join.sum()"
   ]
  },
  {
   "cell_type": "code",
   "execution_count": 85,
   "id": "90918ced-acd9-4b66-b3c4-4fa801424519",
   "metadata": {
    "tags": []
   },
   "outputs": [],
   "source": [
    "# シフトデータをjoin\n",
    "dataset = df_join.join(df_shift, how='outer').fillna('未設定')\n",
    "dataset = df_join.join(df_duty, how='outer').fillna('')"
   ]
  },
  {
   "cell_type": "code",
   "execution_count": 86,
   "id": "04b246d9-295b-45e6-a5e7-2ee38081243b",
   "metadata": {
    "tags": []
   },
   "outputs": [],
   "source": [
    "dataset['ACW'] = (dataset['ワークタイムの合計'] + dataset['着信後処理時間の合計'] + dataset['発信後処理時間の合計'] + dataset['事前準備時間の合計'] + dataset['転送可時間の合計'] + dataset['一時離席時間の合計']) / dataset['ｸﾛｰｽﾞ']\n",
    "dataset['ATT'] = (dataset['着信通話時間の合計(外線)'] + dataset['発信通話時間の合計(外線)']) / dataset['ｸﾛｰｽﾞ']\n",
    "_tmp = dataset['着信通話時間の合計'] + dataset['発信通話時間の合計'] + dataset['ワークタイムの合計'] + dataset['着信後処理時間の合計'] + dataset['発信後処理時間の合計'] + dataset['離席時間の合計'] + dataset['事前準備時間の合計'] + dataset['一時離席時間の合計']\n",
    "dataset['CPH'] = dataset['ｸﾛｰｽﾞ'] / (_tmp * 24)"
   ]
  },
  {
   "cell_type": "code",
   "execution_count": 88,
   "id": "a484e1ec-212d-44bd-9469-00cd3b2b8e68",
   "metadata": {
    "tags": []
   },
   "outputs": [
    {
     "ename": "NameError",
     "evalue": "name 'np' is not defined",
     "output_type": "error",
     "traceback": [
      "\u001b[1;31m---------------------------------------------------------------------------\u001b[0m",
      "\u001b[1;31mNameError\u001b[0m                                 Traceback (most recent call last)",
      "Cell \u001b[1;32mIn[88], line 1\u001b[0m\n\u001b[1;32m----> 1\u001b[0m dataset \u001b[38;5;241m=\u001b[39m dataset\u001b[38;5;241m.\u001b[39mreplace(\u001b[43mnp\u001b[49m\u001b[38;5;241m.\u001b[39minf, \u001b[38;5;241m0\u001b[39m)\n",
      "\u001b[1;31mNameError\u001b[0m: name 'np' is not defined"
     ]
    }
   ],
   "source": [
    "dataset = dataset.replace(np.inf, 0)"
   ]
  },
  {
   "cell_type": "code",
   "execution_count": null,
   "id": "af9c357e-c047-4f3d-a14a-3dd3ef0962ee",
   "metadata": {},
   "outputs": [],
   "source": []
  }
 ],
 "metadata": {
  "kernelspec": {
   "display_name": "Python 3 (ipykernel)",
   "language": "python",
   "name": "python3"
  },
  "language_info": {
   "codemirror_mode": {
    "name": "ipython",
    "version": 3
   },
   "file_extension": ".py",
   "mimetype": "text/x-python",
   "name": "python",
   "nbconvert_exporter": "python",
   "pygments_lexer": "ipython3",
   "version": "3.9.17"
  }
 },
 "nbformat": 4,
 "nbformat_minor": 5
}
