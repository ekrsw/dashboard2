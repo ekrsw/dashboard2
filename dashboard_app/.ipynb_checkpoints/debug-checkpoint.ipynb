{
 "cells": [
  {
   "cell_type": "code",
   "execution_count": 2,
   "id": "a82cc3ee-abac-4074-b7dc-6bddd1719adc",
   "metadata": {
    "tags": []
   },
   "outputs": [],
   "source": [
    "import datetime as dt\n",
    "import numpy as np\n",
    "import os\n",
    "import pandas as pd\n",
    "import string\n",
    "\n",
    "from common.models.reporter_model import ReporterModel\n",
    "from common.models.read_file_model import ReadExlFileModel\n",
    "from common.models.calc_model import Calc\n",
    "\n",
    "headless_mode = True\n",
    "url = 'http://sccts7dxsql/ctreport'\n",
    "id = 'eisuke_koresawa'\n",
    "\n",
    "# メンバリストファイル\n",
    "member_list_path = r\"\\\\mjs.co.jp\\datas\\CSC共有フォルダ\\第47期 東京CSC第二グループ\\47期SV共有\\ダッシュボードアイテム\"\n",
    "member_list_file = 'メンバーリスト.xlsx'\n",
    "member_list_file_path = os.path.join(member_list_path, member_list_file)\n",
    "\n",
    "# 'クローズ_本日.xlsm'ファイル\n",
    "close_file = r'\\\\mjs.co.jp\\datas\\CSC共有フォルダ\\第47期 東京CSC第二グループ\\47期SV共有\\ダッシュボードアイテム\\todays_op.xlsm'\n",
    "\n",
    "# 活動ファイル\n",
    "activity_path = r\"\\\\mjs.co.jp\\datas\\CSC共有フォルダ\\第47期 東京CSC第二グループ\\47期SV共有\\ダッシュボードアイテム\"\n",
    "activity_file = r\"todays_activity.xlsx\"\n",
    "activity_file_path = os.path.join(activity_path, activity_file)"
   ]
  },
  {
   "cell_type": "code",
   "execution_count": 3,
   "id": "b50e52dc-ac6a-47e0-ba9d-51fb900ef453",
   "metadata": {
    "tags": []
   },
   "outputs": [],
   "source": [
    "# レポータ、ファイル読込み、計算インスタンスを作成\n",
    "rm = ReporterModel(url, id, headless_mode=headless_mode)\n",
    "rf = ReadExlFileModel()\n",
    "cl = Calc()"
   ]
  },
  {
   "cell_type": "code",
   "execution_count": 4,
   "id": "b2d24e94-4de3-48ff-8d47-c89e1b24613d",
   "metadata": {
    "tags": []
   },
   "outputs": [],
   "source": [
    " # レポータから本日の各種情報を読込みDataFrameへ格納\n",
    "df = rm.get_today_op_as_dataframe()\n",
    "\n",
    "# メンバーリストファイルから、レポータの名前を正式な氏名のフォーマットに変換\n",
    "member_list = pd.read_excel(member_list_file_path)\n",
    "index_dict_reporter = member_list.set_index('レポータ')['氏名'].to_dict()\n",
    "df.index = df.index.map(index_dict_reporter)"
   ]
  },
  {
   "cell_type": "code",
   "execution_count": 5,
   "id": "5de01e19-82d8-43cc-a1fb-c506f5b88ccd",
   "metadata": {
    "tags": []
   },
   "outputs": [],
   "source": [
    "# クローズ_本日.xlsmファイルを読み込み、クローズのDataFrameを作成\n",
    "df_close = rf.read_today_close_file()\n",
    "\n",
    "# シフトデータを読込み、同時にメンバーリストファイルから、名前を正式な氏名のフォーマットに変換\n",
    "df_shift = rf.read_today_shift_file()\n",
    "index_dict_shift_table = member_list.set_index('Sweet')['氏名'].to_dict()\n",
    "df_shift.index = df_shift.index.map(index_dict_shift_table)"
   ]
  },
  {
   "cell_type": "code",
   "execution_count": 6,
   "id": "03d33246-bd3a-4b66-9b7d-807ce8d3b136",
   "metadata": {
    "tags": []
   },
   "outputs": [],
   "source": [
    "# 当番データを読込み、同時にメンバーリストファイルから、名前を正式な氏名のフォーマットに変換\n",
    "df_duty = rf.read_today_duty_file()\n",
    "index_dict_duty_table = member_list.set_index('Sweet')['氏名'].to_dict()\n",
    "df_duty.index = df_duty.index.map(index_dict_duty_table)"
   ]
  },
  {
   "cell_type": "code",
   "execution_count": null,
   "id": "47cb9ba1-1e71-456f-bc8a-842930f612bb",
   "metadata": {},
   "outputs": [],
   "source": [
    "# クローズデータとレポータからスクレイピングしたデータをjoin\n",
    "df_join = df.join(df_close, how='outer').fillna(0)"
   ]
  }
 ],
 "metadata": {
  "kernelspec": {
   "display_name": "Python 3 (ipykernel)",
   "language": "python",
   "name": "python3"
  },
  "language_info": {
   "codemirror_mode": {
    "name": "ipython",
    "version": 3
   },
   "file_extension": ".py",
   "mimetype": "text/x-python",
   "name": "python",
   "nbconvert_exporter": "python",
   "pygments_lexer": "ipython3",
   "version": "3.9.17"
  }
 },
 "nbformat": 4,
 "nbformat_minor": 5
}
