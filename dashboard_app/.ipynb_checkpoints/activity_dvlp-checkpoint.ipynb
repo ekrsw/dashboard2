{
 "cells": [
  {
   "cell_type": "code",
   "execution_count": 216,
   "id": "56bc4995-f391-485f-a44d-d0d8d101a81d",
   "metadata": {
    "tags": []
   },
   "outputs": [],
   "source": [
    "from common.models.read_file_model import ReadExlFileModel\n",
    "import pandas as pd\n",
    "import os"
   ]
  },
  {
   "cell_type": "code",
   "execution_count": 217,
   "id": "612302f8-841c-4aa5-ac5c-ae033baa17b3",
   "metadata": {
    "tags": []
   },
   "outputs": [],
   "source": [
    "# メンバリストファイル\n",
    "member_list_path = r\"\\\\mjs.co.jp\\datas\\CSC共有フォルダ\\第47期 東京CSC第二グループ\\47期SV共有\\ダッシュボードアイテム\"\n",
    "member_list_file = 'メンバーリスト.xlsx'\n",
    "member_list_file_path = os.path.join(member_list_path, member_list_file)"
   ]
  },
  {
   "cell_type": "code",
   "execution_count": 218,
   "id": "615255b8-aa68-4624-8131-35dd979121e3",
   "metadata": {
    "tags": []
   },
   "outputs": [
    {
     "name": "stderr",
     "output_type": "stream",
     "text": [
      "C:\\Users\\eisuke_koresawa\\Anaconda3\\lib\\site-packages\\openpyxl\\worksheet\\_read_only.py:79: UserWarning: Data Validation extension is not supported and will be removed\n",
      "  for idx, row in parser.parse():\n"
     ]
    }
   ],
   "source": [
    "rm = ReadExlFileModel()\n",
    "df_activity = rm.read_today_activity_file()"
   ]
  },
  {
   "cell_type": "code",
   "execution_count": 219,
   "id": "bace569b-b640-401b-a1f6-7a5962b52d1b",
   "metadata": {
    "tags": []
   },
   "outputs": [],
   "source": [
    "# 受付けタイプ「直受け」「折返し」「留守電」のみ残す\n",
    "df_activity = df_activity[(df_activity['受付タイプ (関連) (サポート案件)'] == '直受け') | (df_activity['受付タイプ (関連) (サポート案件)'] == '折返し') | (df_activity['受付タイプ (関連) (サポート案件)'] == '留守電')]"
   ]
  },
  {
   "cell_type": "code",
   "execution_count": 220,
   "id": "079eead9-169e-4f5d-82b4-7318d61724d9",
   "metadata": {},
   "outputs": [],
   "source": [
    "df_member = pd.read_excel(member_list_file_path)\n",
    "df_member = df_member[['氏名', 'グループ']]\n",
    "\n",
    "df_merge = df_activity.merge(df_member, left_on='所有者 (関連) (サポート案件)', right_on='氏名', how='left')\n",
    "\n",
    "df_merge.sort_values(by=['案件番号 (関連) (サポート案件)', '登録日時'], inplace=True)\n",
    "\n",
    "df_merge.drop_duplicates(subset='案件番号 (関連) (サポート案件)', keep='first', inplace=True)\n",
    "\n",
    "df_merge['登録日時 (関連) (サポート案件)'] = pd.to_datetime(df_merge['登録日時 (関連) (サポート案件)'])\n",
    "df_merge['登録日時 (関連) (サポート案件)'] = pd.to_datetime(df_merge['登録日時 (関連) (サポート案件)'])\n",
    "df_merge['時間差'] = (df_merge['登録日時'] - df_merge['登録日時 (関連) (サポート案件)']).abs()\n",
    "df_merge = df_merge.fillna(0)"
   ]
  },
  {
   "cell_type": "code",
   "execution_count": 221,
   "id": "97ecdbf0-ae4d-49bc-bda5-f82cf96b4305",
   "metadata": {
    "tags": []
   },
   "outputs": [],
   "source": [
    "df_1g = df_merge[df_merge['グループ'] == 1]\n",
    "df_2g = df_merge[df_merge['グループ'] == 2]\n",
    "df_3g = df_merge[df_merge['グループ'] == 3]\n",
    "df_n = df_merge[df_merge['グループ'] == 4]\n",
    "df_other = df_merge[df_merge['グループ'] < 1]"
   ]
  },
  {
   "cell_type": "code",
   "execution_count": 222,
   "id": "aca25e9a-b248-4062-8d06-a37bd14a83bb",
   "metadata": {},
   "outputs": [],
   "source": [
    "def convert_to_num_of_cases_by_per_time(df):\n",
    "    c_20 = df[df['時間差'] <= pd.Timedelta(minutes=20)].shape[0]\n",
    "    c_30 = df[(pd.Timedelta(minutes=20) < df['時間差']) & (df['時間差'] <= pd.Timedelta(minutes=30))].shape[0]\n",
    "    c_40 = df[(pd.Timedelta(minutes=30) < df['時間差']) & (df['時間差'] <= pd.Timedelta(minutes=40))].shape[0]\n",
    "    c_60 = df[(pd.Timedelta(minutes=40) < df['時間差']) & (df['時間差'] <= pd.Timedelta(minutes=60)) & (df['指標に含めない (関連) (サポート案件)'] == 'いいえ')].shape[0]\n",
    "    not_included = df[(pd.Timedelta(minutes=40) < df['時間差']) & (df['時間差'] <= pd.Timedelta(minutes=60)) & (df['指標に含めない (関連) (サポート案件)'] == 'はい')].shape[0]\n",
    "    c_60u = df[(df['時間差'] > pd.Timedelta(minutes=60)) & (df['指標に含めない (関連) (サポート案件)'] == 'いいえ')].shape[0]\n",
    "    not_included = not_included + df[(df['時間差'] > pd.Timedelta(minutes=60)) & (df['指標に含めない (関連) (サポート案件)'] == 'はい')].shape[0]\n",
    "    \n",
    "    return c_20, c_30, c_40, c_60, c_60u, not_included"
   ]
  },
  {
   "cell_type": "code",
   "execution_count": 224,
   "id": "07635f55-f854-40cb-8b47-7be2bceecf3b",
   "metadata": {
    "tags": []
   },
   "outputs": [],
   "source": [
    "c_20, c_30, c_40, c_60, c_60u, not_included = convert_to_num_of_cases_by_per_time(df_2g)"
   ]
  },
  {
   "cell_type": "code",
   "execution_count": 225,
   "id": "b8357f94-73b7-466b-a7bd-58fe317beea4",
   "metadata": {
    "tags": []
   },
   "outputs": [
    {
     "name": "stdout",
     "output_type": "stream",
     "text": [
      "20分以内: 210\n",
      "20分超40以内: 41\n",
      "30分超40以内: 29\n",
      "40分超60以内: 34\n",
      "60超: 16\n",
      "含めない: 8\n"
     ]
    }
   ],
   "source": [
    "print('20分以内:', c_20)\n",
    "print('20分超40以内:', c_30)\n",
    "print('30分超40以内:', c_40)\n",
    "print('40分超60以内:', c_60)\n",
    "print('60超:', c_60u)\n",
    "print('含めない:', not_included)"
   ]
  },
  {
   "cell_type": "code",
   "execution_count": 172,
   "id": "f72b7591-3a61-4b07-ba08-a9c71ce0d039",
   "metadata": {
    "tags": []
   },
   "outputs": [
    {
     "data": {
      "text/plain": [
       "336"
      ]
     },
     "execution_count": 172,
     "metadata": {},
     "output_type": "execute_result"
    }
   ],
   "source": [
    "df_2g.shape[0]"
   ]
  },
  {
   "cell_type": "code",
   "execution_count": 173,
   "id": "7dbad23d-375b-47a5-8337-b75f7b96dad2",
   "metadata": {
    "tags": []
   },
   "outputs": [],
   "source": [
    "df_20 = df_2g[df_2g['時間差'] <= pd.Timedelta(minutes=20)]\n",
    "df_20.to_excel('df_20.xlsx')"
   ]
  },
  {
   "cell_type": "code",
   "execution_count": null,
   "id": "4a053d3b-c12c-4e84-919b-19ebffc18513",
   "metadata": {},
   "outputs": [],
   "source": []
  }
 ],
 "metadata": {
  "kernelspec": {
   "display_name": "Python 3 (ipykernel)",
   "language": "python",
   "name": "python3"
  },
  "language_info": {
   "codemirror_mode": {
    "name": "ipython",
    "version": 3
   },
   "file_extension": ".py",
   "mimetype": "text/x-python",
   "name": "python",
   "nbconvert_exporter": "python",
   "pygments_lexer": "ipython3",
   "version": "3.9.17"
  }
 },
 "nbformat": 4,
 "nbformat_minor": 5
}
